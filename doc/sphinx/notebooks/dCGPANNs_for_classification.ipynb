{
 "cells": [
  {
   "cell_type": "markdown",
   "metadata": {},
   "source": [
    "# Training a FFNN in dCGPANN vs. Keras (classification)\n",
    "\n",
    "A Feed Forward Neural network is a widely used ANN model for regression and classification. Here we show how to encode it into a dCGPANN and train it with stochastic gradient descent on a regression task. To check the correctness of the result we perform the same training using the widely used Keras Deep Learning toolbox."
   ]
  },
  {
   "cell_type": "code",
   "execution_count": 56,
   "metadata": {},
   "outputs": [],
   "source": [
    "# Initial import\n",
    "import dcgpy\n",
    "import matplotlib.pyplot as plt\n",
    "import numpy as np\n",
    "from tqdm import tqdm\n",
    "from sklearn.utils import shuffle\n",
    "import timeit\n",
    "\n",
    "%matplotlib inline"
   ]
  },
  {
   "cell_type": "markdown",
   "metadata": {},
   "source": [
    "### Data set"
   ]
  },
  {
   "cell_type": "code",
   "execution_count": 57,
   "metadata": {},
   "outputs": [],
   "source": [
    "# We import the data for a classification task. 8 inputs 29 classes\n",
    "from numpy import genfromtxt\n",
    "# https://archive.ics.uci.edu/ml/datasets/Abalone\n",
    "my_data = genfromtxt('abalone_data_set.csv', delimiter=',')\n",
    "points = my_data[:,:-1]\n",
    "labels_tmp = my_data[:,-1]\n",
    "# We trasform the categorical variables to one hot encoding\n",
    "labels = np.zeros((len(labels_tmp), 29))\n",
    "for i,l in enumerate(labels_tmp):\n",
    "    labels[i][int(l)-1] = 1\n",
    "# We shuffle the dataset\n",
    "points, labels = shuffle(points, labels, random_state=0)\n",
    "# And split the data into training and test\n",
    "X_train = points[:3000]\n",
    "Y_train = labels[:3000]\n",
    "X_test = points[3000:]\n",
    "Y_test = labels[3000:]\n"
   ]
  },
  {
   "cell_type": "markdown",
   "metadata": {},
   "source": [
    "### Encoding and training a FFNN using dCGP\n",
    "\n",
    "There are many ways the same FFNN could be encoded into a CGP chromosome. The utility *encode_ffnn* selects one for you returning the expression."
   ]
  },
  {
   "cell_type": "code",
   "execution_count": 58,
   "metadata": {},
   "outputs": [
    {
     "name": "stdout",
     "output_type": "stream",
     "text": [
      "Starting error: 6.691009942509981\n",
      "Net complexity (number of active weights): 1980\n",
      "Net complexity (number of unique active weights): 1980\n",
      "Net complexity (number of active nodes): 107\n"
     ]
    }
   ],
   "source": [
    "# We encode a FFNN into a dCGP expression. Note that the last layer is made by a sum activation function\n",
    "# so that categorical cross entropy can be used and produce a softmax activation last layer. \n",
    "# In a dCGP the concept of layers is absent and neurons are defined by activation functions R->R.\n",
    "dcgpann = dcgpy.encode_ffnn(8,29,[50,20],[\"sig\", \"sig\", \"sum\"], 5)\n",
    "\n",
    "# By default all weights (and biases) are set to 1 (and 0). We initialize the weights normally distributed\n",
    "dcgpann.randomise_weights(mean = 0., std = 1.)\n",
    "dcgpann.randomise_biases(mean = 0., std = 1.)\n",
    "\n",
    "\n",
    "print(\"Starting error:\", dcgpann.loss(X_test,Y_test, \"CE\"))\n",
    "print(\"Net complexity (number of active weights):\", dcgpann.n_active_weights())\n",
    "print(\"Net complexity (number of unique active weights):\", dcgpann.n_active_weights(unique=True))\n",
    "print(\"Net complexity (number of active nodes):\", len(dcgpann.get_active_nodes()))\n",
    "\n",
    "#dcgpann.visualize(show_nonlinearities=True, legend=True)"
   ]
  },
  {
   "cell_type": "code",
   "execution_count": 59,
   "metadata": {},
   "outputs": [
    {
     "name": "stdout",
     "output_type": "stream",
     "text": [
      "Start error (training set): 6.55409365215197\n",
      "Start error (test): 6.691009942509981\n"
     ]
    },
    {
     "name": "stderr",
     "output_type": "stream",
     "text": [
      "100%|██████████| 100/100 [00:05<00:00, 18.20it/s]"
     ]
    },
    {
     "name": "stdout",
     "output_type": "stream",
     "text": [
      "End error (training set): 1.898176859329247\n",
      "End error (test): 1.9911147052576759\n",
      "Time: 5.498732452047989\n"
     ]
    },
    {
     "name": "stderr",
     "output_type": "stream",
     "text": [
      "\n"
     ]
    }
   ],
   "source": [
    "res = []\n",
    "\n",
    "# We train\n",
    "n_epochs = 100\n",
    "print(\"Start error (training set):\", dcgpann.loss(X_train,Y_train, \"CE\"), flush=True)\n",
    "print(\"Start error (test):\", dcgpann.loss(X_test,Y_test, \"CE\"), flush=True)\n",
    "\n",
    "start_time = timeit.default_timer()\n",
    "for i in tqdm(range(n_epochs)):\n",
    "    res.append(dcgpann.sgd(X_train, Y_train, 1., 32, \"CE\"))\n",
    "elapsed = timeit.default_timer() - start_time\n",
    "\n",
    "print(\"End error (training set):\", dcgpann.loss(X_train,Y_train, \"CE\"), flush=True)\n",
    "print(\"End error (test):\", dcgpann.loss(X_test,Y_test, \"CE\"), flush=True)\n",
    "print(\"Time:\", elapsed, flush=True)\n",
    "\n",
    "\n",
    "\n"
   ]
  },
  {
   "cell_type": "code",
   "execution_count": 60,
   "metadata": {},
   "outputs": [
    {
     "data": {
      "text/plain": [
       "[<matplotlib.lines.Line2D at 0x7f83c0098080>]"
      ]
     },
     "execution_count": 60,
     "metadata": {},
     "output_type": "execute_result"
    },
    {
     "data": {
      "image/png": "[encoded data removed]",
      "text/plain": [
       "<Figure size 432x288 with 1 Axes>"
      ]
     },
     "metadata": {},
     "output_type": "display_data"
    }
   ],
   "source": [
    "plt.plot(res)"
   ]
  },
  {
   "cell_type": "markdown",
   "metadata": {},
   "source": [
    "### Same training is done using Keras (Tensor Flow backend)\n"
   ]
  },
  {
   "cell_type": "code",
   "execution_count": 61,
   "metadata": {},
   "outputs": [],
   "source": [
    "import keras\n",
    "from keras.models import Sequential\n",
    "from keras.layers import Dense, Activation\n",
    "from keras import optimizers\n",
    "\n",
    "# We define Stochastic Gradient Descent as an optimizer\n",
    "sgd = optimizers.SGD(lr=1.)\n",
    "# We define weight initializetion\n",
    "initializerw = keras.initializers.RandomNormal(mean=0.0, stddev=1, seed=None)\n",
    "initializerb = keras.initializers.RandomNormal(mean=0.0, stddev=1, seed=None)\n",
    "\n",
    "model = Sequential([\n",
    "    Dense(50, input_dim=8, kernel_initializer=initializerw, bias_initializer=initializerb),\n",
    "    Activation('sigmoid'),\n",
    "    Dense(20, kernel_initializer=initializerw, bias_initializer=initializerb),\n",
    "    Activation('sigmoid'),\n",
    "    Dense(29, kernel_initializer=initializerw, bias_initializer=initializerb),\n",
    "    Activation('softmax'),\n",
    "])\n",
    "model.compile(optimizer=sgd,\n",
    "              loss='categorical_crossentropy')\n"
   ]
  },
  {
   "cell_type": "code",
   "execution_count": 62,
   "metadata": {},
   "outputs": [
    {
     "name": "stdout",
     "output_type": "stream",
     "text": [
      "End error (training set): 1.9159638535181682\n",
      "End error (test): 1.9843069945945513\n",
      "Time: 7.72587486798875\n"
     ]
    }
   ],
   "source": [
    "start_time = timeit.default_timer()\n",
    "history = model.fit(X_train, Y_train, epochs=100, batch_size=32, verbose=False)\n",
    "elapsed = timeit.default_timer() - start_time\n",
    "print(\"End error (training set):\", model.evaluate(X_train,Y_train, verbose=False))\n",
    "print(\"End error (test):\", model.evaluate(X_test,Y_test, verbose=False))\n",
    "print(\"Time:\", elapsed)"
   ]
  },
  {
   "cell_type": "code",
   "execution_count": 67,
   "metadata": {},
   "outputs": [
    {
     "data": {
      "image/png": "[encoded data removed]",
      "text/plain": [
       "<Figure size 432x288 with 1 Axes>"
      ]
     },
     "metadata": {},
     "output_type": "display_data"
    }
   ],
   "source": [
    "# We plot for comparison the MSE during learning in the two cases\n",
    "plt.plot(history.history['loss'], label='Keras')\n",
    "plt.plot(res, label='dCGP')\n",
    "plt.title('dCGP vs Keras')\n",
    "plt.xlabel('epochs')\n",
    "plt.legend()\n",
    "_ = plt.xlabel('Cross Entropy Loss')"
   ]
  },
  {
   "cell_type": "code",
   "execution_count": null,
   "metadata": {},
   "outputs": [],
   "source": []
  }
 ],
 "metadata": {
  "kernelspec": {
   "display_name": "Python 3",
   "language": "python",
   "name": "python3"
  },
  "language_info": {
   "codemirror_mode": {
    "name": "ipython",
    "version": 3
   },
   "file_extension": ".py",
   "mimetype": "text/x-python",
   "name": "python",
   "nbconvert_exporter": "python",
   "pygments_lexer": "ipython3",
   "version": "3.6.6"
  }
 },
 "nbformat": 4,
 "nbformat_minor": 2
}
